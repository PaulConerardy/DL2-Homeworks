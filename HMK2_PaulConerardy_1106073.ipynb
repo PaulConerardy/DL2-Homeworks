{
  "nbformat": 4,
  "nbformat_minor": 0,
  "metadata": {
    "colab": {
      "name": "HMK2-PaulConerardy-1106073.ipynb",
      "provenance": [],
      "collapsed_sections": [],
      "toc_visible": true
    },
    "kernelspec": {
      "name": "python3",
      "display_name": "Python 3"
    },
    "language_info": {
      "name": "python"
    },
    "accelerator": "GPU",
    "widgets": {
      "application/vnd.jupyter.widget-state+json": {
        "09f28edbd0d54e43918a98fa0050ad83": {
          "model_module": "@jupyter-widgets/controls",
          "model_name": "HBoxModel",
          "state": {
            "_view_name": "HBoxView",
            "_dom_classes": [],
            "_model_name": "HBoxModel",
            "_view_module": "@jupyter-widgets/controls",
            "_model_module_version": "1.5.0",
            "_view_count": null,
            "_view_module_version": "1.5.0",
            "box_style": "",
            "layout": "IPY_MODEL_33e9b0c2715443779086041467122057",
            "_model_module": "@jupyter-widgets/controls",
            "children": [
              "IPY_MODEL_0de73dbf5bae47b7a7a4900026d9390f",
              "IPY_MODEL_eac3183b151a43318f0093d13d30675a"
            ]
          },
          "model_module_version": "1.5.0"
        },
        "33e9b0c2715443779086041467122057": {
          "model_module": "@jupyter-widgets/base",
          "model_name": "LayoutModel",
          "state": {
            "_view_name": "LayoutView",
            "grid_template_rows": null,
            "right": null,
            "justify_content": null,
            "_view_module": "@jupyter-widgets/base",
            "overflow": null,
            "_model_module_version": "1.2.0",
            "_view_count": null,
            "flex_flow": null,
            "width": null,
            "min_width": null,
            "border": null,
            "align_items": null,
            "bottom": null,
            "_model_module": "@jupyter-widgets/base",
            "top": null,
            "grid_column": null,
            "overflow_y": null,
            "overflow_x": null,
            "grid_auto_flow": null,
            "grid_area": null,
            "grid_template_columns": null,
            "flex": null,
            "_model_name": "LayoutModel",
            "justify_items": null,
            "grid_row": null,
            "max_height": null,
            "align_content": null,
            "visibility": null,
            "align_self": null,
            "height": null,
            "min_height": null,
            "padding": null,
            "grid_auto_rows": null,
            "grid_gap": null,
            "max_width": null,
            "order": null,
            "_view_module_version": "1.2.0",
            "grid_template_areas": null,
            "object_position": null,
            "object_fit": null,
            "grid_auto_columns": null,
            "margin": null,
            "display": null,
            "left": null
          },
          "model_module_version": "1.2.0"
        },
        "0de73dbf5bae47b7a7a4900026d9390f": {
          "model_module": "@jupyter-widgets/controls",
          "model_name": "FloatProgressModel",
          "state": {
            "_view_name": "ProgressView",
            "style": "IPY_MODEL_f30a0d6acfc74dbcb8496a44f4cdc7a1",
            "_dom_classes": [],
            "description": "Downloading: 100%",
            "_model_name": "FloatProgressModel",
            "bar_style": "success",
            "max": 385,
            "_view_module": "@jupyter-widgets/controls",
            "_model_module_version": "1.5.0",
            "value": 385,
            "_view_count": null,
            "_view_module_version": "1.5.0",
            "orientation": "horizontal",
            "min": 0,
            "description_tooltip": null,
            "_model_module": "@jupyter-widgets/controls",
            "layout": "IPY_MODEL_a79f6e819095470b9cfb7238dc04f754"
          },
          "model_module_version": "1.5.0"
        },
        "eac3183b151a43318f0093d13d30675a": {
          "model_module": "@jupyter-widgets/controls",
          "model_name": "HTMLModel",
          "state": {
            "_view_name": "HTMLView",
            "style": "IPY_MODEL_38b53f0ac5a147efa0acb0aa6c5e0f91",
            "_dom_classes": [],
            "description": "",
            "_model_name": "HTMLModel",
            "placeholder": "​",
            "_view_module": "@jupyter-widgets/controls",
            "_model_module_version": "1.5.0",
            "value": " 385/385 [00:04&lt;00:00, 93.9B/s]",
            "_view_count": null,
            "_view_module_version": "1.5.0",
            "description_tooltip": null,
            "_model_module": "@jupyter-widgets/controls",
            "layout": "IPY_MODEL_d030e88f3d984ff7aeaf9849d7c9db7c"
          },
          "model_module_version": "1.5.0"
        },
        "f30a0d6acfc74dbcb8496a44f4cdc7a1": {
          "model_module": "@jupyter-widgets/controls",
          "model_name": "ProgressStyleModel",
          "state": {
            "_view_name": "StyleView",
            "_model_name": "ProgressStyleModel",
            "description_width": "initial",
            "_view_module": "@jupyter-widgets/base",
            "_model_module_version": "1.5.0",
            "_view_count": null,
            "_view_module_version": "1.2.0",
            "bar_color": null,
            "_model_module": "@jupyter-widgets/controls"
          },
          "model_module_version": "1.5.0"
        },
        "a79f6e819095470b9cfb7238dc04f754": {
          "model_module": "@jupyter-widgets/base",
          "model_name": "LayoutModel",
          "state": {
            "_view_name": "LayoutView",
            "grid_template_rows": null,
            "right": null,
            "justify_content": null,
            "_view_module": "@jupyter-widgets/base",
            "overflow": null,
            "_model_module_version": "1.2.0",
            "_view_count": null,
            "flex_flow": null,
            "width": null,
            "min_width": null,
            "border": null,
            "align_items": null,
            "bottom": null,
            "_model_module": "@jupyter-widgets/base",
            "top": null,
            "grid_column": null,
            "overflow_y": null,
            "overflow_x": null,
            "grid_auto_flow": null,
            "grid_area": null,
            "grid_template_columns": null,
            "flex": null,
            "_model_name": "LayoutModel",
            "justify_items": null,
            "grid_row": null,
            "max_height": null,
            "align_content": null,
            "visibility": null,
            "align_self": null,
            "height": null,
            "min_height": null,
            "padding": null,
            "grid_auto_rows": null,
            "grid_gap": null,
            "max_width": null,
            "order": null,
            "_view_module_version": "1.2.0",
            "grid_template_areas": null,
            "object_position": null,
            "object_fit": null,
            "grid_auto_columns": null,
            "margin": null,
            "display": null,
            "left": null
          },
          "model_module_version": "1.2.0"
        },
        "38b53f0ac5a147efa0acb0aa6c5e0f91": {
          "model_module": "@jupyter-widgets/controls",
          "model_name": "DescriptionStyleModel",
          "state": {
            "_view_name": "StyleView",
            "_model_name": "DescriptionStyleModel",
            "description_width": "",
            "_view_module": "@jupyter-widgets/base",
            "_model_module_version": "1.5.0",
            "_view_count": null,
            "_view_module_version": "1.2.0",
            "_model_module": "@jupyter-widgets/controls"
          },
          "model_module_version": "1.5.0"
        },
        "d030e88f3d984ff7aeaf9849d7c9db7c": {
          "model_module": "@jupyter-widgets/base",
          "model_name": "LayoutModel",
          "state": {
            "_view_name": "LayoutView",
            "grid_template_rows": null,
            "right": null,
            "justify_content": null,
            "_view_module": "@jupyter-widgets/base",
            "overflow": null,
            "_model_module_version": "1.2.0",
            "_view_count": null,
            "flex_flow": null,
            "width": null,
            "min_width": null,
            "border": null,
            "align_items": null,
            "bottom": null,
            "_model_module": "@jupyter-widgets/base",
            "top": null,
            "grid_column": null,
            "overflow_y": null,
            "overflow_x": null,
            "grid_auto_flow": null,
            "grid_area": null,
            "grid_template_columns": null,
            "flex": null,
            "_model_name": "LayoutModel",
            "justify_items": null,
            "grid_row": null,
            "max_height": null,
            "align_content": null,
            "visibility": null,
            "align_self": null,
            "height": null,
            "min_height": null,
            "padding": null,
            "grid_auto_rows": null,
            "grid_gap": null,
            "max_width": null,
            "order": null,
            "_view_module_version": "1.2.0",
            "grid_template_areas": null,
            "object_position": null,
            "object_fit": null,
            "grid_auto_columns": null,
            "margin": null,
            "display": null,
            "left": null
          },
          "model_module_version": "1.2.0"
        },
        "80353b62ce1b4530be1c606e2e79723d": {
          "model_module": "@jupyter-widgets/controls",
          "model_name": "HBoxModel",
          "state": {
            "_view_name": "HBoxView",
            "_dom_classes": [],
            "_model_name": "HBoxModel",
            "_view_module": "@jupyter-widgets/controls",
            "_model_module_version": "1.5.0",
            "_view_count": null,
            "_view_module_version": "1.5.0",
            "box_style": "",
            "layout": "IPY_MODEL_bf104a0e40e34f05b16c8be55a1c96fb",
            "_model_module": "@jupyter-widgets/controls",
            "children": [
              "IPY_MODEL_9feb6d5d860d45529e7cfe6b1ca3cef0",
              "IPY_MODEL_8fe0b340f7224999bbdfcf178cb8d1eb"
            ]
          },
          "model_module_version": "1.5.0"
        },
        "bf104a0e40e34f05b16c8be55a1c96fb": {
          "model_module": "@jupyter-widgets/base",
          "model_name": "LayoutModel",
          "state": {
            "_view_name": "LayoutView",
            "grid_template_rows": null,
            "right": null,
            "justify_content": null,
            "_view_module": "@jupyter-widgets/base",
            "overflow": null,
            "_model_module_version": "1.2.0",
            "_view_count": null,
            "flex_flow": null,
            "width": null,
            "min_width": null,
            "border": null,
            "align_items": null,
            "bottom": null,
            "_model_module": "@jupyter-widgets/base",
            "top": null,
            "grid_column": null,
            "overflow_y": null,
            "overflow_x": null,
            "grid_auto_flow": null,
            "grid_area": null,
            "grid_template_columns": null,
            "flex": null,
            "_model_name": "LayoutModel",
            "justify_items": null,
            "grid_row": null,
            "max_height": null,
            "align_content": null,
            "visibility": null,
            "align_self": null,
            "height": null,
            "min_height": null,
            "padding": null,
            "grid_auto_rows": null,
            "grid_gap": null,
            "max_width": null,
            "order": null,
            "_view_module_version": "1.2.0",
            "grid_template_areas": null,
            "object_position": null,
            "object_fit": null,
            "grid_auto_columns": null,
            "margin": null,
            "display": null,
            "left": null
          },
          "model_module_version": "1.2.0"
        },
        "9feb6d5d860d45529e7cfe6b1ca3cef0": {
          "model_module": "@jupyter-widgets/controls",
          "model_name": "FloatProgressModel",
          "state": {
            "_view_name": "ProgressView",
            "style": "IPY_MODEL_ca4f6d6069724ec9bda9c30201980c21",
            "_dom_classes": [],
            "description": "Downloading: 100%",
            "_model_name": "FloatProgressModel",
            "bar_style": "success",
            "max": 227845,
            "_view_module": "@jupyter-widgets/controls",
            "_model_module_version": "1.5.0",
            "value": 227845,
            "_view_count": null,
            "_view_module_version": "1.5.0",
            "orientation": "horizontal",
            "min": 0,
            "description_tooltip": null,
            "_model_module": "@jupyter-widgets/controls",
            "layout": "IPY_MODEL_af2f1985c7f544c8bde99867c2627d86"
          },
          "model_module_version": "1.5.0"
        },
        "8fe0b340f7224999bbdfcf178cb8d1eb": {
          "model_module": "@jupyter-widgets/controls",
          "model_name": "HTMLModel",
          "state": {
            "_view_name": "HTMLView",
            "style": "IPY_MODEL_a78c11bd9fdd412ca53cc8f9a745d5e2",
            "_dom_classes": [],
            "description": "",
            "_model_name": "HTMLModel",
            "placeholder": "​",
            "_view_module": "@jupyter-widgets/controls",
            "_model_module_version": "1.5.0",
            "value": " 228k/228k [00:02&lt;00:00, 77.3kB/s]",
            "_view_count": null,
            "_view_module_version": "1.5.0",
            "description_tooltip": null,
            "_model_module": "@jupyter-widgets/controls",
            "layout": "IPY_MODEL_3225df3adbcc4eadb95e05c0f11e2e08"
          },
          "model_module_version": "1.5.0"
        },
        "ca4f6d6069724ec9bda9c30201980c21": {
          "model_module": "@jupyter-widgets/controls",
          "model_name": "ProgressStyleModel",
          "state": {
            "_view_name": "StyleView",
            "_model_name": "ProgressStyleModel",
            "description_width": "initial",
            "_view_module": "@jupyter-widgets/base",
            "_model_module_version": "1.5.0",
            "_view_count": null,
            "_view_module_version": "1.2.0",
            "bar_color": null,
            "_model_module": "@jupyter-widgets/controls"
          },
          "model_module_version": "1.5.0"
        },
        "af2f1985c7f544c8bde99867c2627d86": {
          "model_module": "@jupyter-widgets/base",
          "model_name": "LayoutModel",
          "state": {
            "_view_name": "LayoutView",
            "grid_template_rows": null,
            "right": null,
            "justify_content": null,
            "_view_module": "@jupyter-widgets/base",
            "overflow": null,
            "_model_module_version": "1.2.0",
            "_view_count": null,
            "flex_flow": null,
            "width": null,
            "min_width": null,
            "border": null,
            "align_items": null,
            "bottom": null,
            "_model_module": "@jupyter-widgets/base",
            "top": null,
            "grid_column": null,
            "overflow_y": null,
            "overflow_x": null,
            "grid_auto_flow": null,
            "grid_area": null,
            "grid_template_columns": null,
            "flex": null,
            "_model_name": "LayoutModel",
            "justify_items": null,
            "grid_row": null,
            "max_height": null,
            "align_content": null,
            "visibility": null,
            "align_self": null,
            "height": null,
            "min_height": null,
            "padding": null,
            "grid_auto_rows": null,
            "grid_gap": null,
            "max_width": null,
            "order": null,
            "_view_module_version": "1.2.0",
            "grid_template_areas": null,
            "object_position": null,
            "object_fit": null,
            "grid_auto_columns": null,
            "margin": null,
            "display": null,
            "left": null
          },
          "model_module_version": "1.2.0"
        },
        "a78c11bd9fdd412ca53cc8f9a745d5e2": {
          "model_module": "@jupyter-widgets/controls",
          "model_name": "DescriptionStyleModel",
          "state": {
            "_view_name": "StyleView",
            "_model_name": "DescriptionStyleModel",
            "description_width": "",
            "_view_module": "@jupyter-widgets/base",
            "_model_module_version": "1.5.0",
            "_view_count": null,
            "_view_module_version": "1.2.0",
            "_model_module": "@jupyter-widgets/controls"
          },
          "model_module_version": "1.5.0"
        },
        "3225df3adbcc4eadb95e05c0f11e2e08": {
          "model_module": "@jupyter-widgets/base",
          "model_name": "LayoutModel",
          "state": {
            "_view_name": "LayoutView",
            "grid_template_rows": null,
            "right": null,
            "justify_content": null,
            "_view_module": "@jupyter-widgets/base",
            "overflow": null,
            "_model_module_version": "1.2.0",
            "_view_count": null,
            "flex_flow": null,
            "width": null,
            "min_width": null,
            "border": null,
            "align_items": null,
            "bottom": null,
            "_model_module": "@jupyter-widgets/base",
            "top": null,
            "grid_column": null,
            "overflow_y": null,
            "overflow_x": null,
            "grid_auto_flow": null,
            "grid_area": null,
            "grid_template_columns": null,
            "flex": null,
            "_model_name": "LayoutModel",
            "justify_items": null,
            "grid_row": null,
            "max_height": null,
            "align_content": null,
            "visibility": null,
            "align_self": null,
            "height": null,
            "min_height": null,
            "padding": null,
            "grid_auto_rows": null,
            "grid_gap": null,
            "max_width": null,
            "order": null,
            "_view_module_version": "1.2.0",
            "grid_template_areas": null,
            "object_position": null,
            "object_fit": null,
            "grid_auto_columns": null,
            "margin": null,
            "display": null,
            "left": null
          },
          "model_module_version": "1.2.0"
        },
        "13296676e4a84bb295e57590d82d6662": {
          "model_module": "@jupyter-widgets/controls",
          "model_name": "HBoxModel",
          "state": {
            "_view_name": "HBoxView",
            "_dom_classes": [],
            "_model_name": "HBoxModel",
            "_view_module": "@jupyter-widgets/controls",
            "_model_module_version": "1.5.0",
            "_view_count": null,
            "_view_module_version": "1.5.0",
            "box_style": "",
            "layout": "IPY_MODEL_d6c3253af8624f249b44f1b2d497fe50",
            "_model_module": "@jupyter-widgets/controls",
            "children": [
              "IPY_MODEL_5aa3da7943a0407b9f80aec6e091aa24",
              "IPY_MODEL_8a1bffb41ef04fc895a2fe7a3f97c991"
            ]
          },
          "model_module_version": "1.5.0"
        },
        "d6c3253af8624f249b44f1b2d497fe50": {
          "model_module": "@jupyter-widgets/base",
          "model_name": "LayoutModel",
          "state": {
            "_view_name": "LayoutView",
            "grid_template_rows": null,
            "right": null,
            "justify_content": null,
            "_view_module": "@jupyter-widgets/base",
            "overflow": null,
            "_model_module_version": "1.2.0",
            "_view_count": null,
            "flex_flow": null,
            "width": null,
            "min_width": null,
            "border": null,
            "align_items": null,
            "bottom": null,
            "_model_module": "@jupyter-widgets/base",
            "top": null,
            "grid_column": null,
            "overflow_y": null,
            "overflow_x": null,
            "grid_auto_flow": null,
            "grid_area": null,
            "grid_template_columns": null,
            "flex": null,
            "_model_name": "LayoutModel",
            "justify_items": null,
            "grid_row": null,
            "max_height": null,
            "align_content": null,
            "visibility": null,
            "align_self": null,
            "height": null,
            "min_height": null,
            "padding": null,
            "grid_auto_rows": null,
            "grid_gap": null,
            "max_width": null,
            "order": null,
            "_view_module_version": "1.2.0",
            "grid_template_areas": null,
            "object_position": null,
            "object_fit": null,
            "grid_auto_columns": null,
            "margin": null,
            "display": null,
            "left": null
          },
          "model_module_version": "1.2.0"
        },
        "5aa3da7943a0407b9f80aec6e091aa24": {
          "model_module": "@jupyter-widgets/controls",
          "model_name": "FloatProgressModel",
          "state": {
            "_view_name": "ProgressView",
            "style": "IPY_MODEL_568c0f36531a4f72a762f030f0c0f406",
            "_dom_classes": [],
            "description": "Downloading: 100%",
            "_model_name": "FloatProgressModel",
            "bar_style": "success",
            "max": 442221694,
            "_view_module": "@jupyter-widgets/controls",
            "_model_module_version": "1.5.0",
            "value": 442221694,
            "_view_count": null,
            "_view_module_version": "1.5.0",
            "orientation": "horizontal",
            "min": 0,
            "description_tooltip": null,
            "_model_module": "@jupyter-widgets/controls",
            "layout": "IPY_MODEL_6302ab57b3a34f31badb0f12440d4c97"
          },
          "model_module_version": "1.5.0"
        },
        "8a1bffb41ef04fc895a2fe7a3f97c991": {
          "model_module": "@jupyter-widgets/controls",
          "model_name": "HTMLModel",
          "state": {
            "_view_name": "HTMLView",
            "style": "IPY_MODEL_36e68503e9b5416395a86d05eba93ccd",
            "_dom_classes": [],
            "description": "",
            "_model_name": "HTMLModel",
            "placeholder": "​",
            "_view_module": "@jupyter-widgets/controls",
            "_model_module_version": "1.5.0",
            "value": " 442M/442M [00:08&lt;00:00, 53.6MB/s]",
            "_view_count": null,
            "_view_module_version": "1.5.0",
            "description_tooltip": null,
            "_model_module": "@jupyter-widgets/controls",
            "layout": "IPY_MODEL_1842d82b6a764a3a8e516e10eb4aedd4"
          },
          "model_module_version": "1.5.0"
        },
        "568c0f36531a4f72a762f030f0c0f406": {
          "model_module": "@jupyter-widgets/controls",
          "model_name": "ProgressStyleModel",
          "state": {
            "_view_name": "StyleView",
            "_model_name": "ProgressStyleModel",
            "description_width": "initial",
            "_view_module": "@jupyter-widgets/base",
            "_model_module_version": "1.5.0",
            "_view_count": null,
            "_view_module_version": "1.2.0",
            "bar_color": null,
            "_model_module": "@jupyter-widgets/controls"
          },
          "model_module_version": "1.5.0"
        },
        "6302ab57b3a34f31badb0f12440d4c97": {
          "model_module": "@jupyter-widgets/base",
          "model_name": "LayoutModel",
          "state": {
            "_view_name": "LayoutView",
            "grid_template_rows": null,
            "right": null,
            "justify_content": null,
            "_view_module": "@jupyter-widgets/base",
            "overflow": null,
            "_model_module_version": "1.2.0",
            "_view_count": null,
            "flex_flow": null,
            "width": null,
            "min_width": null,
            "border": null,
            "align_items": null,
            "bottom": null,
            "_model_module": "@jupyter-widgets/base",
            "top": null,
            "grid_column": null,
            "overflow_y": null,
            "overflow_x": null,
            "grid_auto_flow": null,
            "grid_area": null,
            "grid_template_columns": null,
            "flex": null,
            "_model_name": "LayoutModel",
            "justify_items": null,
            "grid_row": null,
            "max_height": null,
            "align_content": null,
            "visibility": null,
            "align_self": null,
            "height": null,
            "min_height": null,
            "padding": null,
            "grid_auto_rows": null,
            "grid_gap": null,
            "max_width": null,
            "order": null,
            "_view_module_version": "1.2.0",
            "grid_template_areas": null,
            "object_position": null,
            "object_fit": null,
            "grid_auto_columns": null,
            "margin": null,
            "display": null,
            "left": null
          },
          "model_module_version": "1.2.0"
        },
        "36e68503e9b5416395a86d05eba93ccd": {
          "model_module": "@jupyter-widgets/controls",
          "model_name": "DescriptionStyleModel",
          "state": {
            "_view_name": "StyleView",
            "_model_name": "DescriptionStyleModel",
            "description_width": "",
            "_view_module": "@jupyter-widgets/base",
            "_model_module_version": "1.5.0",
            "_view_count": null,
            "_view_module_version": "1.2.0",
            "_model_module": "@jupyter-widgets/controls"
          },
          "model_module_version": "1.5.0"
        },
        "1842d82b6a764a3a8e516e10eb4aedd4": {
          "model_module": "@jupyter-widgets/base",
          "model_name": "LayoutModel",
          "state": {
            "_view_name": "LayoutView",
            "grid_template_rows": null,
            "right": null,
            "justify_content": null,
            "_view_module": "@jupyter-widgets/base",
            "overflow": null,
            "_model_module_version": "1.2.0",
            "_view_count": null,
            "flex_flow": null,
            "width": null,
            "min_width": null,
            "border": null,
            "align_items": null,
            "bottom": null,
            "_model_module": "@jupyter-widgets/base",
            "top": null,
            "grid_column": null,
            "overflow_y": null,
            "overflow_x": null,
            "grid_auto_flow": null,
            "grid_area": null,
            "grid_template_columns": null,
            "flex": null,
            "_model_name": "LayoutModel",
            "justify_items": null,
            "grid_row": null,
            "max_height": null,
            "align_content": null,
            "visibility": null,
            "align_self": null,
            "height": null,
            "min_height": null,
            "padding": null,
            "grid_auto_rows": null,
            "grid_gap": null,
            "max_width": null,
            "order": null,
            "_view_module_version": "1.2.0",
            "grid_template_areas": null,
            "object_position": null,
            "object_fit": null,
            "grid_auto_columns": null,
            "margin": null,
            "display": null,
            "left": null
          },
          "model_module_version": "1.2.0"
        }
      }
    }
  },
  "cells": [
    {
      "cell_type": "markdown",
      "metadata": {
        "id": "xCCR3YZXRquZ"
      },
      "source": [
        "# HMK 2\n",
        "\n",
        "Paul Conerardy\n",
        "11206073\n",
        "\n",
        "\n",
        "---\n"
      ]
    },
    {
      "cell_type": "markdown",
      "metadata": {
        "id": "dLPISabkSRWA"
      },
      "source": [
        "\n",
        "\n",
        "\n",
        "This notebook will only presents the model that offered me the best performance on Kaggle but a few more were tried.\n",
        "\n",
        "The final model used is SciBERT (cf: https://www.aclweb.org/anthology/D19-1371.pdf) which is a pretrained language model based on BERT that was specifically trained on a corpus of scientific texts.\n",
        "\n",
        "The model is adjusted using the library \"transformers\" by HuggingFace. The title of the paper will be concatenated with its abstract and then go through a few trasnformations. The text will be cleaned by removing any URLs, hashtags, non-alphanumeric characters, etc... but also any stopwords (words without any semantic meaning). The idea behind this transformation is to focus on the vocabulary specific to each scientific field that we have to classify. \n",
        "\n",
        "Since the distribution of the different labels is very unbalanced (displayed at the end of this notebook), a weighting will be applied when computing the cross entropy loss. Those weightings were empirically chosen after a few tries. \n",
        "\n",
        "Moreover, since BERT is a lot less complex than other modern transformer models (like RoBERTa) this allows us to try to maximize the maximum sequence length of text considered for each observation since we are still limited VRAM-wise.\n",
        "\n",
        "Finally, since our dataset is relatively small (60k observations) and after finding an acceptable configuration, I tried to use the dataset almost entirely for training (keeping only 5% for validation and no test set) to try to maximize my performance on Kaggle."
      ]
    },
    {
      "cell_type": "code",
      "metadata": {
        "colab": {
          "base_uri": "https://localhost:8080/"
        },
        "id": "1kLht5cYSlJS",
        "outputId": "3273ab76-08ba-4914-ed33-ed4bac4d12af"
      },
      "source": [
        "!pip install transformers\n",
        "!pip install sentencepiece\n",
        "import pandas as pd\n",
        "import numpy as np\n",
        "import random\n",
        "\n",
        "import pandas as pd\n",
        "import numpy as np\n",
        "import os\n",
        "import random\n",
        "import networkx as nx\n",
        "\n",
        "from tensorflow import keras\n",
        "import torch\n",
        "\n",
        "from sklearn.linear_model import LogisticRegression\n",
        "from sklearn.metrics import roc_auc_score"
      ],
      "execution_count": null,
      "outputs": [
        {
          "output_type": "stream",
          "text": [
            "Collecting transformers\n",
            "\u001b[?25l  Downloading https://files.pythonhosted.org/packages/ed/d5/f4157a376b8a79489a76ce6cfe147f4f3be1e029b7144fa7b8432e8acb26/transformers-4.4.2-py3-none-any.whl (2.0MB)\n",
            "\u001b[K     |████████████████████████████████| 2.0MB 3.9MB/s \n",
            "\u001b[?25hRequirement already satisfied: filelock in /usr/local/lib/python3.7/dist-packages (from transformers) (3.0.12)\n",
            "Requirement already satisfied: numpy>=1.17 in /usr/local/lib/python3.7/dist-packages (from transformers) (1.19.5)\n",
            "Collecting tokenizers<0.11,>=0.10.1\n",
            "\u001b[?25l  Downloading https://files.pythonhosted.org/packages/71/23/2ddc317b2121117bf34dd00f5b0de194158f2a44ee2bf5e47c7166878a97/tokenizers-0.10.1-cp37-cp37m-manylinux2010_x86_64.whl (3.2MB)\n",
            "\u001b[K     |████████████████████████████████| 3.2MB 51.2MB/s \n",
            "\u001b[?25hRequirement already satisfied: regex!=2019.12.17 in /usr/local/lib/python3.7/dist-packages (from transformers) (2019.12.20)\n",
            "Requirement already satisfied: tqdm>=4.27 in /usr/local/lib/python3.7/dist-packages (from transformers) (4.41.1)\n",
            "Requirement already satisfied: importlib-metadata; python_version < \"3.8\" in /usr/local/lib/python3.7/dist-packages (from transformers) (3.8.1)\n",
            "Requirement already satisfied: packaging in /usr/local/lib/python3.7/dist-packages (from transformers) (20.9)\n",
            "Collecting sacremoses\n",
            "\u001b[?25l  Downloading https://files.pythonhosted.org/packages/7d/34/09d19aff26edcc8eb2a01bed8e98f13a1537005d31e95233fd48216eed10/sacremoses-0.0.43.tar.gz (883kB)\n",
            "\u001b[K     |████████████████████████████████| 890kB 48.0MB/s \n",
            "\u001b[?25hRequirement already satisfied: requests in /usr/local/lib/python3.7/dist-packages (from transformers) (2.23.0)\n",
            "Requirement already satisfied: zipp>=0.5 in /usr/local/lib/python3.7/dist-packages (from importlib-metadata; python_version < \"3.8\"->transformers) (3.4.1)\n",
            "Requirement already satisfied: typing-extensions>=3.6.4; python_version < \"3.8\" in /usr/local/lib/python3.7/dist-packages (from importlib-metadata; python_version < \"3.8\"->transformers) (3.7.4.3)\n",
            "Requirement already satisfied: pyparsing>=2.0.2 in /usr/local/lib/python3.7/dist-packages (from packaging->transformers) (2.4.7)\n",
            "Requirement already satisfied: six in /usr/local/lib/python3.7/dist-packages (from sacremoses->transformers) (1.15.0)\n",
            "Requirement already satisfied: click in /usr/local/lib/python3.7/dist-packages (from sacremoses->transformers) (7.1.2)\n",
            "Requirement already satisfied: joblib in /usr/local/lib/python3.7/dist-packages (from sacremoses->transformers) (1.0.1)\n",
            "Requirement already satisfied: idna<3,>=2.5 in /usr/local/lib/python3.7/dist-packages (from requests->transformers) (2.10)\n",
            "Requirement already satisfied: urllib3!=1.25.0,!=1.25.1,<1.26,>=1.21.1 in /usr/local/lib/python3.7/dist-packages (from requests->transformers) (1.24.3)\n",
            "Requirement already satisfied: certifi>=2017.4.17 in /usr/local/lib/python3.7/dist-packages (from requests->transformers) (2020.12.5)\n",
            "Requirement already satisfied: chardet<4,>=3.0.2 in /usr/local/lib/python3.7/dist-packages (from requests->transformers) (3.0.4)\n",
            "Building wheels for collected packages: sacremoses\n",
            "  Building wheel for sacremoses (setup.py) ... \u001b[?25l\u001b[?25hdone\n",
            "  Created wheel for sacremoses: filename=sacremoses-0.0.43-cp37-none-any.whl size=893262 sha256=77298e726de4b89764c3dbe3e393af8c7dc03acf9da3c693d47f12a6472e42db\n",
            "  Stored in directory: /root/.cache/pip/wheels/29/3c/fd/7ce5c3f0666dab31a50123635e6fb5e19ceb42ce38d4e58f45\n",
            "Successfully built sacremoses\n",
            "Installing collected packages: tokenizers, sacremoses, transformers\n",
            "Successfully installed sacremoses-0.0.43 tokenizers-0.10.1 transformers-4.4.2\n",
            "Collecting sentencepiece\n",
            "\u001b[?25l  Downloading https://files.pythonhosted.org/packages/f5/99/e0808cb947ba10f575839c43e8fafc9cc44e4a7a2c8f79c60db48220a577/sentencepiece-0.1.95-cp37-cp37m-manylinux2014_x86_64.whl (1.2MB)\n",
            "\u001b[K     |████████████████████████████████| 1.2MB 5.8MB/s \n",
            "\u001b[?25hInstalling collected packages: sentencepiece\n",
            "Successfully installed sentencepiece-0.1.95\n"
          ],
          "name": "stdout"
        }
      ]
    },
    {
      "cell_type": "code",
      "metadata": {
        "colab": {
          "base_uri": "https://localhost:8080/"
        },
        "id": "M5QyuhN0SqTG",
        "outputId": "2996ae4f-4c53-40b3-80af-69e0df71470e"
      },
      "source": [
        "import torch\n",
        "\n",
        "# GPU runtime\n",
        "if torch.cuda.is_available():    \n",
        "    device = torch.device(\"cuda\")\n",
        "    print('GPU used:', torch.cuda.get_device_name(0))\n",
        "else:\n",
        "    print('No GPU available, using the CPU instead.')\n",
        "    device = torch.device(\"cpu\")"
      ],
      "execution_count": null,
      "outputs": [
        {
          "output_type": "stream",
          "text": [
            "GPU used: Tesla V100-SXM2-16GB\n"
          ],
          "name": "stdout"
        }
      ]
    },
    {
      "cell_type": "markdown",
      "metadata": {
        "id": "fpTs79l7SwJ5"
      },
      "source": [
        "# Data Loading"
      ]
    },
    {
      "cell_type": "code",
      "metadata": {
        "colab": {
          "base_uri": "https://localhost:8080/"
        },
        "id": "ESgoLxmJSz1M",
        "outputId": "5bef0359-7fc1-451c-f9ba-360df8c6f084"
      },
      "source": [
        "from google.colab import drive \n",
        "drive.mount(\"/content/drive\")"
      ],
      "execution_count": null,
      "outputs": [
        {
          "output_type": "stream",
          "text": [
            "Mounted at /content/drive\n"
          ],
          "name": "stdout"
        }
      ]
    },
    {
      "cell_type": "code",
      "metadata": {
        "id": "vYXrgc3_S0rJ"
      },
      "source": [
        "path='/content/drive/MyDrive/Colab Notebooks/ML2/Hmk2/data'\n",
        "\n",
        "train = pd.read_csv(path + \"/train.csv\", names=[\"label\", \"node idx\"])\n",
        "test = pd.read_csv(path + \"/test.csv\", names=[\"node idx\"])\n",
        "text = pd.read_csv(path + \"/text.csv\", names=[\"paper id\", \"title\", \"abstract\"])\n",
        "\n",
        "node2paper = pd.read_csv(path + \"/nodeid2paperid.csv\")\n",
        "sample = pd.read_csv(path + \"/sample.csv\")  "
      ],
      "execution_count": null,
      "outputs": []
    },
    {
      "cell_type": "markdown",
      "metadata": {
        "id": "P6nbWrucS4Sl"
      },
      "source": [
        "# Tokenization"
      ]
    },
    {
      "cell_type": "code",
      "metadata": {
        "colab": {
          "base_uri": "https://localhost:8080/",
          "height": 244
        },
        "id": "aZe1ZvywS-Px",
        "outputId": "472aadde-44fd-4bb6-e816-438c65d3214b"
      },
      "source": [
        "# Data merging to link the ids and the text\n",
        "\n",
        "reference = node2paper\n",
        "\n",
        "df = pd.merge(train, reference, on=\"node idx\")\n",
        "df = pd.merge(df, text, on = \"paper id\")\n",
        "\n",
        "print('Number of observations: {:,}\\n'.format(df.shape[0]))\n",
        "\n",
        "df.head(5)"
      ],
      "execution_count": null,
      "outputs": [
        {
          "output_type": "stream",
          "text": [
            "Number of observations: 60,000\n",
            "\n"
          ],
          "name": "stdout"
        },
        {
          "output_type": "execute_result",
          "data": {
            "text/html": [
              "<div>\n",
              "<style scoped>\n",
              "    .dataframe tbody tr th:only-of-type {\n",
              "        vertical-align: middle;\n",
              "    }\n",
              "\n",
              "    .dataframe tbody tr th {\n",
              "        vertical-align: top;\n",
              "    }\n",
              "\n",
              "    .dataframe thead th {\n",
              "        text-align: right;\n",
              "    }\n",
              "</style>\n",
              "<table border=\"1\" class=\"dataframe\">\n",
              "  <thead>\n",
              "    <tr style=\"text-align: right;\">\n",
              "      <th></th>\n",
              "      <th>label</th>\n",
              "      <th>node idx</th>\n",
              "      <th>paper id</th>\n",
              "      <th>title</th>\n",
              "      <th>abstract</th>\n",
              "    </tr>\n",
              "  </thead>\n",
              "  <tbody>\n",
              "    <tr>\n",
              "      <th>0</th>\n",
              "      <td>4</td>\n",
              "      <td>0</td>\n",
              "      <td>9657784</td>\n",
              "      <td>evasion attacks against machine learning at te...</td>\n",
              "      <td>In security-sensitive applications, the succes...</td>\n",
              "    </tr>\n",
              "    <tr>\n",
              "      <th>1</th>\n",
              "      <td>5</td>\n",
              "      <td>1</td>\n",
              "      <td>39886162</td>\n",
              "      <td>how hard is computing parity with noisy commun...</td>\n",
              "      <td>We show a tight lower bound of $\\Omega(N \\log\\...</td>\n",
              "    </tr>\n",
              "    <tr>\n",
              "      <th>2</th>\n",
              "      <td>8</td>\n",
              "      <td>3</td>\n",
              "      <td>121432379</td>\n",
              "      <td>a promise theory perspective on data networks</td>\n",
              "      <td>Networking is undergoing a transformation thro...</td>\n",
              "    </tr>\n",
              "    <tr>\n",
              "      <th>3</th>\n",
              "      <td>6</td>\n",
              "      <td>6</td>\n",
              "      <td>1444859417</td>\n",
              "      <td>webvrgis based city bigdata 3d visualization a...</td>\n",
              "      <td>This paper shows the WEBVRGIS platform overlyi...</td>\n",
              "    </tr>\n",
              "    <tr>\n",
              "      <th>4</th>\n",
              "      <td>4</td>\n",
              "      <td>7</td>\n",
              "      <td>1483430697</td>\n",
              "      <td>information theoretic authentication and secre...</td>\n",
              "      <td>In the splitting model, information theoretic ...</td>\n",
              "    </tr>\n",
              "  </tbody>\n",
              "</table>\n",
              "</div>"
            ],
            "text/plain": [
              "   label  ...                                           abstract\n",
              "0      4  ...  In security-sensitive applications, the succes...\n",
              "1      5  ...  We show a tight lower bound of $\\Omega(N \\log\\...\n",
              "2      8  ...  Networking is undergoing a transformation thro...\n",
              "3      6  ...  This paper shows the WEBVRGIS platform overlyi...\n",
              "4      4  ...  In the splitting model, information theoretic ...\n",
              "\n",
              "[5 rows x 5 columns]"
            ]
          },
          "metadata": {
            "tags": []
          },
          "execution_count": 5
        }
      ]
    },
    {
      "cell_type": "code",
      "metadata": {
        "id": "cIa8k1A7TNv4"
      },
      "source": [
        "# Concatenation of the paper's title and abstract and conversion to arrays\n",
        "\n",
        "df['text'] = df['title'] + ' ' +df['abstract']\n"
      ],
      "execution_count": null,
      "outputs": []
    },
    {
      "cell_type": "code",
      "metadata": {
        "id": "3FX_eKggXi3z"
      },
      "source": [
        "def clean_text(text):\n",
        "    text = text.str.lower() # lowercase\n",
        "    text = text.str.replace(r\"\\#\",\"\") # replaces hashtags\n",
        "    text = text.str.replace(r\"http\\S+\",\"URL\")  # remove URL addresses\n",
        "    text = text.str.replace(r\"@\",\"\")\n",
        "    text = text.str.replace(r\"[^A-Za-z0-9()!?\\'\\`\\\"]\", \" \")\n",
        "    text = text.str.replace(\"\\s{2,}\", \" \")\n",
        "    return text"
      ],
      "execution_count": null,
      "outputs": []
    },
    {
      "cell_type": "code",
      "metadata": {
        "colab": {
          "base_uri": "https://localhost:8080/"
        },
        "id": "aan5VP9lGVG5",
        "outputId": "62435671-b797-4ea7-aa8b-4ffe14f47a8f"
      },
      "source": [
        "!pip install nltk\n",
        "import nltk\n",
        "from nltk.corpus import stopwords\n",
        "from nltk.stem.snowball import SnowballStemmer\n",
        "nltk.download('stopwords')\n"
      ],
      "execution_count": null,
      "outputs": [
        {
          "output_type": "stream",
          "text": [
            "Requirement already satisfied: nltk in /usr/local/lib/python3.7/dist-packages (3.2.5)\n",
            "Requirement already satisfied: six in /usr/local/lib/python3.7/dist-packages (from nltk) (1.15.0)\n",
            "[nltk_data] Downloading package stopwords to /root/nltk_data...\n",
            "[nltk_data]   Unzipping corpora/stopwords.zip.\n"
          ],
          "name": "stdout"
        },
        {
          "output_type": "execute_result",
          "data": {
            "text/plain": [
              "True"
            ]
          },
          "metadata": {
            "tags": []
          },
          "execution_count": 8
        }
      ]
    },
    {
      "cell_type": "code",
      "metadata": {
        "id": "D-M__E8CGhRO"
      },
      "source": [
        "stop = stopwords.words('english')\n",
        "stemmer = SnowballStemmer('english')"
      ],
      "execution_count": null,
      "outputs": []
    },
    {
      "cell_type": "code",
      "metadata": {
        "colab": {
          "base_uri": "https://localhost:8080/",
          "height": 206
        },
        "id": "bC7-qinhHh1M",
        "outputId": "c8bf45b2-7496-4397-b91e-fae72a055dd5"
      },
      "source": [
        "df.head()"
      ],
      "execution_count": null,
      "outputs": [
        {
          "output_type": "execute_result",
          "data": {
            "text/html": [
              "<div>\n",
              "<style scoped>\n",
              "    .dataframe tbody tr th:only-of-type {\n",
              "        vertical-align: middle;\n",
              "    }\n",
              "\n",
              "    .dataframe tbody tr th {\n",
              "        vertical-align: top;\n",
              "    }\n",
              "\n",
              "    .dataframe thead th {\n",
              "        text-align: right;\n",
              "    }\n",
              "</style>\n",
              "<table border=\"1\" class=\"dataframe\">\n",
              "  <thead>\n",
              "    <tr style=\"text-align: right;\">\n",
              "      <th></th>\n",
              "      <th>label</th>\n",
              "      <th>node idx</th>\n",
              "      <th>paper id</th>\n",
              "      <th>title</th>\n",
              "      <th>abstract</th>\n",
              "      <th>text</th>\n",
              "    </tr>\n",
              "  </thead>\n",
              "  <tbody>\n",
              "    <tr>\n",
              "      <th>0</th>\n",
              "      <td>4</td>\n",
              "      <td>0</td>\n",
              "      <td>9657784</td>\n",
              "      <td>evasion attacks against machine learning at te...</td>\n",
              "      <td>In security-sensitive applications, the succes...</td>\n",
              "      <td>evasion attacks against machine learning at te...</td>\n",
              "    </tr>\n",
              "    <tr>\n",
              "      <th>1</th>\n",
              "      <td>5</td>\n",
              "      <td>1</td>\n",
              "      <td>39886162</td>\n",
              "      <td>how hard is computing parity with noisy commun...</td>\n",
              "      <td>We show a tight lower bound of $\\Omega(N \\log\\...</td>\n",
              "      <td>how hard is computing parity with noisy commun...</td>\n",
              "    </tr>\n",
              "    <tr>\n",
              "      <th>2</th>\n",
              "      <td>8</td>\n",
              "      <td>3</td>\n",
              "      <td>121432379</td>\n",
              "      <td>a promise theory perspective on data networks</td>\n",
              "      <td>Networking is undergoing a transformation thro...</td>\n",
              "      <td>a promise theory perspective on data networks ...</td>\n",
              "    </tr>\n",
              "    <tr>\n",
              "      <th>3</th>\n",
              "      <td>6</td>\n",
              "      <td>6</td>\n",
              "      <td>1444859417</td>\n",
              "      <td>webvrgis based city bigdata 3d visualization a...</td>\n",
              "      <td>This paper shows the WEBVRGIS platform overlyi...</td>\n",
              "      <td>webvrgis based city bigdata 3d visualization a...</td>\n",
              "    </tr>\n",
              "    <tr>\n",
              "      <th>4</th>\n",
              "      <td>4</td>\n",
              "      <td>7</td>\n",
              "      <td>1483430697</td>\n",
              "      <td>information theoretic authentication and secre...</td>\n",
              "      <td>In the splitting model, information theoretic ...</td>\n",
              "      <td>information theoretic authentication and secre...</td>\n",
              "    </tr>\n",
              "  </tbody>\n",
              "</table>\n",
              "</div>"
            ],
            "text/plain": [
              "   label  ...                                               text\n",
              "0      4  ...  evasion attacks against machine learning at te...\n",
              "1      5  ...  how hard is computing parity with noisy commun...\n",
              "2      8  ...  a promise theory perspective on data networks ...\n",
              "3      6  ...  webvrgis based city bigdata 3d visualization a...\n",
              "4      4  ...  information theoretic authentication and secre...\n",
              "\n",
              "[5 rows x 6 columns]"
            ]
          },
          "metadata": {
            "tags": []
          },
          "execution_count": 10
        }
      ]
    },
    {
      "cell_type": "code",
      "metadata": {
        "id": "GVQd8kBxGtjl"
      },
      "source": [
        "# We create a column with no stopwords and \"clean\" text\n",
        "\n",
        "df['text'] = clean_text(df['text'])\n",
        "df[\"text\"] = df[\"text\"].apply(lambda x: ' '.join([word for word in x.split() if word not in (stop)]))\n",
        "#df[\"text\"] = df[\"text\"].apply(lambda x: ' '.join([stemmer.stem(word) for word in x.split() ]))\n",
        "df[\"text\"] = clean_text(df[\"text\"])"
      ],
      "execution_count": null,
      "outputs": []
    },
    {
      "cell_type": "code",
      "metadata": {
        "colab": {
          "base_uri": "https://localhost:8080/"
        },
        "id": "zzMFKtAgHjKe",
        "outputId": "9dbc5819-a03b-432d-d5ac-0abaad4fc1be"
      },
      "source": [
        "df['text'].head()"
      ],
      "execution_count": null,
      "outputs": [
        {
          "output_type": "execute_result",
          "data": {
            "text/plain": [
              "0    evasion attacks machine learning test time sec...\n",
              "1    hard computing parity noisy communications sho...\n",
              "2    promise theory perspective data networks netwo...\n",
              "3    webvrgis based city bigdata 3d visualization a...\n",
              "4    information theoretic authentication secrecy c...\n",
              "Name: text, dtype: object"
            ]
          },
          "metadata": {
            "tags": []
          },
          "execution_count": 12
        }
      ]
    },
    {
      "cell_type": "code",
      "metadata": {
        "id": "nlljcGK-G2mY"
      },
      "source": [
        "text = df.text.values\n",
        "labels = df.label.values"
      ],
      "execution_count": null,
      "outputs": []
    },
    {
      "cell_type": "code",
      "metadata": {
        "id": "ZzLZc9UITa7Z",
        "colab": {
          "base_uri": "https://localhost:8080/",
          "height": 118,
          "referenced_widgets": [
            "09f28edbd0d54e43918a98fa0050ad83",
            "33e9b0c2715443779086041467122057",
            "0de73dbf5bae47b7a7a4900026d9390f",
            "eac3183b151a43318f0093d13d30675a",
            "f30a0d6acfc74dbcb8496a44f4cdc7a1",
            "a79f6e819095470b9cfb7238dc04f754",
            "38b53f0ac5a147efa0acb0aa6c5e0f91",
            "d030e88f3d984ff7aeaf9849d7c9db7c",
            "80353b62ce1b4530be1c606e2e79723d",
            "bf104a0e40e34f05b16c8be55a1c96fb",
            "9feb6d5d860d45529e7cfe6b1ca3cef0",
            "8fe0b340f7224999bbdfcf178cb8d1eb",
            "ca4f6d6069724ec9bda9c30201980c21",
            "af2f1985c7f544c8bde99867c2627d86",
            "a78c11bd9fdd412ca53cc8f9a745d5e2",
            "3225df3adbcc4eadb95e05c0f11e2e08"
          ]
        },
        "outputId": "323f2641-ad8b-48cd-e2cb-7e07c263d6fe"
      },
      "source": [
        "# Instantiate the tokenizer (SciBERT)\n",
        "# List of pretrained models : https://huggingface.co/transformers/pretrained_models.html\n",
        "\n",
        "\n",
        "from transformers import DebertaV2Tokenizer, RobertaTokenizer, AutoTokenizer, AutoModel\n",
        "\n",
        "tokenizer = AutoTokenizer.from_pretrained('allenai/scibert_scivocab_uncased',do_lower_case=True)"
      ],
      "execution_count": null,
      "outputs": [
        {
          "output_type": "display_data",
          "data": {
            "application/vnd.jupyter.widget-view+json": {
              "model_id": "09f28edbd0d54e43918a98fa0050ad83",
              "version_minor": 0,
              "version_major": 2
            },
            "text/plain": [
              "HBox(children=(FloatProgress(value=0.0, description='Downloading', max=385.0, style=ProgressStyle(description_…"
            ]
          },
          "metadata": {
            "tags": []
          }
        },
        {
          "output_type": "stream",
          "text": [
            "\n"
          ],
          "name": "stdout"
        },
        {
          "output_type": "display_data",
          "data": {
            "application/vnd.jupyter.widget-view+json": {
              "model_id": "80353b62ce1b4530be1c606e2e79723d",
              "version_minor": 0,
              "version_major": 2
            },
            "text/plain": [
              "HBox(children=(FloatProgress(value=0.0, description='Downloading', max=227845.0, style=ProgressStyle(descripti…"
            ]
          },
          "metadata": {
            "tags": []
          }
        },
        {
          "output_type": "stream",
          "text": [
            "\n"
          ],
          "name": "stdout"
        }
      ]
    },
    {
      "cell_type": "code",
      "metadata": {
        "colab": {
          "base_uri": "https://localhost:8080/"
        },
        "id": "NYJ2AusITxCT",
        "outputId": "bd5d4f09-d18e-4ed1-aaab-6a15049e620d"
      },
      "source": [
        "# Test of the tokenization process\n",
        "print('Original sentence: ', text[0])\n",
        "print('Tokenized sentence: ', tokenizer.tokenize(text[0]))\n",
        "print('Tokens IDs: ', tokenizer.convert_tokens_to_ids(tokenizer.tokenize(text[0])))"
      ],
      "execution_count": null,
      "outputs": [
        {
          "output_type": "stream",
          "text": [
            "Original sentence:  evasion attacks machine learning test time security sensitive applications success machine learning depends thorough vetting resistance adversarial data one pertinent well motivated attack scenario adversary may attempt evade deployed system test time carefully manipulating attack samples work present simple effective gradient based approach exploited systematically assess security several widely used classification algorithms evasion attacks following recently proposed framework security evaluation simulate attack scenarios exhibit different risk levels classifier increasing attacker's knowledge system ability manipulate attack samples gives classifier designer better picture classifier performance evasion attacks allows perform informed model selection (or parameter setting) evaluate approach relevant security task malware detection pdf files show systems easily evaded also sketch countermeasures suggested analysis\n",
            "Tokenized sentence:  ['ev', '##asion', 'attacks', 'machine', 'learning', 'test', 'time', 'security', 'sensitive', 'applications', 'success', 'machine', 'learning', 'depends', 'thorough', 'vet', '##ting', 'resistance', 'advers', '##arial', 'data', 'one', 'pertinent', 'well', 'motivated', 'attack', 'scenario', 'adversary', 'may', 'attempt', 'ev', '##ade', 'deployed', 'system', 'test', 'time', 'carefully', 'manipulating', 'attack', 'samples', 'work', 'present', 'simple', 'effective', 'gradient', 'based', 'approach', 'exploited', 'systematically', 'assess', 'security', 'several', 'widely', 'used', 'classification', 'algorithms', 'ev', '##asion', 'attacks', 'following', 'recently', 'proposed', 'framework', 'security', 'evaluation', 'simulate', 'attack', 'scenarios', 'exhibit', 'different', 'risk', 'levels', 'classifier', 'increasing', 'attacker', \"'\", 's', 'knowledge', 'system', 'ability', 'manipulate', 'attack', 'samples', 'gives', 'classifier', 'designer', 'better', 'picture', 'classifier', 'performance', 'ev', '##asion', 'attacks', 'allows', 'perform', 'informed', 'model', 'selection', '(', 'or', 'parameter', 'setting', ')', 'evaluate', 'approach', 'relevant', 'security', 'task', 'malware', 'detection', 'pdf', 'files', 'show', 'systems', 'easily', 'ev', '##aded', 'also', 'sketch', 'counter', '##measures', 'suggested', 'analysis']\n",
            "Tokens IDs:  [403, 22591, 7652, 3997, 1904, 856, 532, 3594, 4232, 2040, 2108, 3997, 1904, 3898, 9763, 17801, 586, 2661, 11440, 16754, 453, 482, 20662, 804, 10744, 3689, 4713, 15002, 552, 5809, 403, 932, 12160, 429, 856, 532, 9577, 23299, 3689, 1488, 697, 709, 2177, 2115, 4751, 791, 1139, 13294, 11810, 1285, 3594, 1323, 4276, 501, 2998, 2617, 403, 22591, 7652, 982, 2803, 1337, 2641, 3594, 2166, 9884, 3689, 5828, 5537, 643, 1265, 1049, 8039, 1953, 15244, 2505, 112, 1767, 429, 2495, 18884, 3689, 1488, 3669, 8039, 16337, 1883, 7295, 8039, 1150, 403, 22591, 7652, 2890, 620, 6841, 437, 2516, 145, 234, 2318, 2707, 546, 3138, 1139, 2884, 3594, 2188, 24870, 1995, 11815, 7208, 405, 1078, 3717, 403, 13504, 469, 18026, 4227, 21883, 2995, 669]\n"
          ],
          "name": "stdout"
        }
      ]
    },
    {
      "cell_type": "code",
      "metadata": {
        "colab": {
          "base_uri": "https://localhost:8080/"
        },
        "id": "MuiaXwWzUJTc",
        "outputId": "27cd4d4d-f232-4fd0-a885-082eb7ff1d30"
      },
      "source": [
        "inputs_id = []\n",
        "\n",
        "# Loop to tokenize the dataset\n",
        "for t in text:\n",
        "  encoded_sent = tokenizer.encode(t,\n",
        "                                  add_special_tokens=True)\n",
        "  \n",
        "  inputs_id.append(encoded_sent)\n",
        "\n",
        "print('Original sentence: ', text[0])\n",
        "print(' Tokens IDs:', inputs_id[0])"
      ],
      "execution_count": null,
      "outputs": [
        {
          "output_type": "stream",
          "text": [
            "Original sentence:  evasion attacks machine learning test time security sensitive applications success machine learning depends thorough vetting resistance adversarial data one pertinent well motivated attack scenario adversary may attempt evade deployed system test time carefully manipulating attack samples work present simple effective gradient based approach exploited systematically assess security several widely used classification algorithms evasion attacks following recently proposed framework security evaluation simulate attack scenarios exhibit different risk levels classifier increasing attacker's knowledge system ability manipulate attack samples gives classifier designer better picture classifier performance evasion attacks allows perform informed model selection (or parameter setting) evaluate approach relevant security task malware detection pdf files show systems easily evaded also sketch countermeasures suggested analysis\n",
            " Tokens IDs: [102, 403, 22591, 7652, 3997, 1904, 856, 532, 3594, 4232, 2040, 2108, 3997, 1904, 3898, 9763, 17801, 586, 2661, 11440, 16754, 453, 482, 20662, 804, 10744, 3689, 4713, 15002, 552, 5809, 403, 932, 12160, 429, 856, 532, 9577, 23299, 3689, 1488, 697, 709, 2177, 2115, 4751, 791, 1139, 13294, 11810, 1285, 3594, 1323, 4276, 501, 2998, 2617, 403, 22591, 7652, 982, 2803, 1337, 2641, 3594, 2166, 9884, 3689, 5828, 5537, 643, 1265, 1049, 8039, 1953, 15244, 2505, 112, 1767, 429, 2495, 18884, 3689, 1488, 3669, 8039, 16337, 1883, 7295, 8039, 1150, 403, 22591, 7652, 2890, 620, 6841, 437, 2516, 145, 234, 2318, 2707, 546, 3138, 1139, 2884, 3594, 2188, 24870, 1995, 11815, 7208, 405, 1078, 3717, 403, 13504, 469, 18026, 4227, 21883, 2995, 669, 103]\n"
          ],
          "name": "stdout"
        }
      ]
    },
    {
      "cell_type": "code",
      "metadata": {
        "id": "hvdctDCSUrgV"
      },
      "source": [
        "from keras.preprocessing.sequence import pad_sequences\n",
        "\n",
        "MAX_LEN = 350\n",
        "# Sequence padding to get sequences of size MAX_LEN\n",
        "inputs_id = pad_sequences(inputs_id, maxlen=MAX_LEN, dtype=\"long\", \n",
        "                          value=0, truncating=\"post\", padding=\"post\")"
      ],
      "execution_count": null,
      "outputs": []
    },
    {
      "cell_type": "code",
      "metadata": {
        "id": "FogE3D8iVDaW"
      },
      "source": [
        "# Attention mask to not consider padding ids in the model introduced just above\n",
        "\n",
        "attention_masks = []\n",
        "\n",
        "for sentence in inputs_id:\n",
        "  att_mask = [int(token_id > 0) for token_id in sentence]\n",
        "  attention_masks.append(att_mask)"
      ],
      "execution_count": null,
      "outputs": []
    },
    {
      "cell_type": "code",
      "metadata": {
        "id": "W5eldgHgVX-y"
      },
      "source": [
        "# Data splits\n",
        "\n",
        "from sklearn.model_selection import train_test_split\n",
        "\n",
        "train_inputs, validation_inputs, train_labels, validation_labels = train_test_split(inputs_id, labels,\n",
        "                                                                                   random_state=42, test_size=0.05)\n",
        "\n",
        "train_masks, validation_masks, _, _ = train_test_split(attention_masks, labels, random_state=42, test_size=0.05)"
      ],
      "execution_count": null,
      "outputs": []
    },
    {
      "cell_type": "markdown",
      "metadata": {
        "id": "OlJBqHeQVjLg"
      },
      "source": [
        "# Data to pytorch"
      ]
    },
    {
      "cell_type": "code",
      "metadata": {
        "id": "4bVXR_0PVlPC"
      },
      "source": [
        "train_inputs = torch.tensor(train_inputs)\n",
        "validation_inputs = torch.tensor(validation_inputs)\n",
        "\n",
        "train_labels = torch.tensor(train_labels)\n",
        "validation_labels = torch.tensor(validation_labels)\n",
        "\n",
        "train_masks = torch.tensor(train_masks)\n",
        "validation_masks = torch.tensor(validation_masks)"
      ],
      "execution_count": null,
      "outputs": []
    },
    {
      "cell_type": "code",
      "metadata": {
        "id": "raCkxWtEVtC5"
      },
      "source": [
        "from torch.utils.data import TensorDataset, DataLoader, RandomSampler, SequentialSampler\n",
        "\n",
        "# Batch_size will be selected to maximize the sequence length selected earlier while still being able to fit everything in memory\n",
        "batch_size = 20\n",
        "\n",
        "# Training DataLoader \n",
        "train_data = TensorDataset(train_inputs, train_masks, train_labels)\n",
        "train_sampler = RandomSampler(train_data)\n",
        "train_dataloader = DataLoader(train_data, sampler=train_sampler, batch_size=batch_size)\n",
        "\n",
        "# Test DataLoader\n",
        "validation_data = TensorDataset(validation_inputs, validation_masks, validation_labels)\n",
        "validation_sampler = SequentialSampler(validation_data)\n",
        "validation_dataloader = DataLoader(validation_data, sampler=validation_sampler, batch_size=batch_size)"
      ],
      "execution_count": null,
      "outputs": []
    },
    {
      "cell_type": "markdown",
      "metadata": {
        "id": "2nA__tRnWFSl"
      },
      "source": [
        "# Model"
      ]
    },
    {
      "cell_type": "code",
      "metadata": {
        "id": "icrIDEhDP9DQ"
      },
      "source": [
        "from transformers import AutoModelForSequenceClassification, AdamW\n",
        "\n",
        "\n",
        "class SciBERT(torch.nn.Module):\n",
        "    def __init__(self, dropout_rate=0.1):\n",
        "        super(SciBERT, self).__init__()\n",
        "        \n",
        "        self.roberta = AutoModelForSequenceClassification.from_pretrained('allenai/scibert_scivocab_uncased', num_labels=768, return_dict=False, output_hidden_states = False,output_attentions = False) # Change?   :  RobertaForSequenceClassification + add linear layers ?\n",
        "        self.d1 = torch.nn.Dropout(dropout_rate)\n",
        "        self.l1 = torch.nn.Linear(768, 64) \n",
        "        self.bn1 = torch.nn.LayerNorm(64)\n",
        "        self.d2 = torch.nn.Dropout(dropout_rate)\n",
        "        self.l2 = torch.nn.Linear(64, 20)\n",
        "        \n",
        "    def forward(self, input_ids, attention_mask):\n",
        "        x = self.roberta(input_ids=input_ids, attention_mask=attention_mask)[0]\n",
        "        # print(x)\n",
        "        # print(x.shape())\n",
        "        x = self.d1(x)\n",
        "        x = self.l1(x)\n",
        "        x = self.bn1(x)\n",
        "        x = torch.nn.Tanh()(x)\n",
        "        x = self.d2(x)\n",
        "        x = self.l2(x)\n",
        "        \n",
        "        return x"
      ],
      "execution_count": null,
      "outputs": []
    },
    {
      "cell_type": "code",
      "metadata": {
        "colab": {
          "base_uri": "https://localhost:8080/",
          "height": 181,
          "referenced_widgets": [
            "13296676e4a84bb295e57590d82d6662",
            "d6c3253af8624f249b44f1b2d497fe50",
            "5aa3da7943a0407b9f80aec6e091aa24",
            "8a1bffb41ef04fc895a2fe7a3f97c991",
            "568c0f36531a4f72a762f030f0c0f406",
            "6302ab57b3a34f31badb0f12440d4c97",
            "36e68503e9b5416395a86d05eba93ccd",
            "1842d82b6a764a3a8e516e10eb4aedd4"
          ]
        },
        "id": "gyy9YEeMP_Th",
        "outputId": "c43dbba5-9fa2-40d1-8f27-ea2af5f2cd9e"
      },
      "source": [
        "model = SciBERT()\n",
        "model = model.to(device)"
      ],
      "execution_count": null,
      "outputs": [
        {
          "output_type": "display_data",
          "data": {
            "application/vnd.jupyter.widget-view+json": {
              "model_id": "13296676e4a84bb295e57590d82d6662",
              "version_minor": 0,
              "version_major": 2
            },
            "text/plain": [
              "HBox(children=(FloatProgress(value=0.0, description='Downloading', max=442221694.0, style=ProgressStyle(descri…"
            ]
          },
          "metadata": {
            "tags": []
          }
        },
        {
          "output_type": "stream",
          "text": [
            "\n"
          ],
          "name": "stdout"
        },
        {
          "output_type": "stream",
          "text": [
            "Some weights of the model checkpoint at allenai/scibert_scivocab_uncased were not used when initializing BertForSequenceClassification: ['cls.predictions.bias', 'cls.predictions.transform.dense.weight', 'cls.predictions.transform.dense.bias', 'cls.predictions.transform.LayerNorm.weight', 'cls.predictions.transform.LayerNorm.bias', 'cls.predictions.decoder.weight', 'cls.predictions.decoder.bias', 'cls.seq_relationship.weight', 'cls.seq_relationship.bias']\n",
            "- This IS expected if you are initializing BertForSequenceClassification from the checkpoint of a model trained on another task or with another architecture (e.g. initializing a BertForSequenceClassification model from a BertForPreTraining model).\n",
            "- This IS NOT expected if you are initializing BertForSequenceClassification from the checkpoint of a model that you expect to be exactly identical (initializing a BertForSequenceClassification model from a BertForSequenceClassification model).\n",
            "Some weights of BertForSequenceClassification were not initialized from the model checkpoint at allenai/scibert_scivocab_uncased and are newly initialized: ['classifier.weight', 'classifier.bias']\n",
            "You should probably TRAIN this model on a down-stream task to be able to use it for predictions and inference.\n"
          ],
          "name": "stderr"
        }
      ]
    },
    {
      "cell_type": "markdown",
      "metadata": {
        "id": "ZjxuKSS4XTlp"
      },
      "source": [
        "# Optimizer"
      ]
    },
    {
      "cell_type": "code",
      "metadata": {
        "id": "p3PWyG1qXVn-"
      },
      "source": [
        "# Adam Optimizer with Weight Decay\n",
        "\n",
        "optimizer = AdamW(model.parameters(),\n",
        "                  lr = 1e-5, \n",
        "                  eps = 1e-8) "
      ],
      "execution_count": null,
      "outputs": []
    },
    {
      "cell_type": "code",
      "metadata": {
        "id": "k8LMQBaNXb1B"
      },
      "source": [
        "from transformers import get_linear_schedule_with_warmup\n",
        "\n",
        "epochs = 12\n",
        "\n",
        "# Total number of training steps\n",
        "total_steps = len(train_dataloader) * epochs\n",
        "\n",
        "# Learning rate scheduler.\n",
        "scheduler = get_linear_schedule_with_warmup(optimizer, \n",
        "                                            num_warmup_steps = 0,\n",
        "                                            num_training_steps = total_steps)"
      ],
      "execution_count": null,
      "outputs": []
    },
    {
      "cell_type": "code",
      "metadata": {
        "id": "yszQLG1nXjTM"
      },
      "source": [
        "# Scoring function\n",
        "\n",
        "def flat_accuracy(preds, labels):\n",
        "    pred_flat = np.argmax(preds, axis=1).flatten()\n",
        "    labels_flat = labels.flatten()\n",
        "    return np.sum(pred_flat == labels_flat) / len(labels_flat)"
      ],
      "execution_count": null,
      "outputs": []
    },
    {
      "cell_type": "code",
      "metadata": {
        "id": "xjiVFHHSXoup"
      },
      "source": [
        "import time\n",
        "import datetime\n",
        "\n",
        "# Function to get an idea of training time\n",
        "\n",
        "def format_time(elapsed):\n",
        "\n",
        "    elapsed_rounded = int(round((elapsed)))\n",
        "    \n",
        "    return str(datetime.timedelta(seconds=elapsed_rounded))"
      ],
      "execution_count": null,
      "outputs": []
    },
    {
      "cell_type": "markdown",
      "metadata": {
        "id": "rvTanvC9X2Zz"
      },
      "source": [
        "# Training Loop"
      ]
    },
    {
      "cell_type": "code",
      "metadata": {
        "colab": {
          "base_uri": "https://localhost:8080/"
        },
        "id": "dyayaQpEX4VT",
        "outputId": "fdf00023-dade-4820-d4da-c9875345118d"
      },
      "source": [
        "import random\n",
        "\n",
        "seed_val = 42\n",
        "\n",
        "random.seed(seed_val)\n",
        "np.random.seed(seed_val)\n",
        "torch.manual_seed(seed_val)\n",
        "torch.cuda.manual_seed_all(seed_val)\n",
        "\n",
        "# Store the average loss after each epoch so we can plot them.\n",
        "loss_values = []\n",
        "\n",
        "for epoch_i in range(0, epochs):\n",
        "\n",
        "    print('======== Epoch {:} / {:} ========'.format(epoch_i + 1, epochs))\n",
        "\n",
        "    t0 = time.time()\n",
        "    total_loss = 0\n",
        "\n",
        "    model.train()\n",
        "\n",
        "    for step, batch in enumerate(train_dataloader):\n",
        "\n",
        "        # Print current training time and batch every 200 batch done\n",
        "        if step % 200 == 0 and not step == 0:\n",
        "            elapsed = format_time(time.time() - t0)\n",
        "            \n",
        "            # Report progress.\n",
        "            print('  Batch {:>5,}  of  {:>5,}.    Elapsed: {:}.'.format(step, len(train_dataloader), elapsed))\n",
        "\n",
        "        # Unpack the inputs from our dataloader and attach them to the GPU\n",
        "        b_input_ids = batch[0].to(device)\n",
        "        b_input_mask = batch[1].to(device)\n",
        "        b_labels = batch[2].to(device)\n",
        "\n",
        "        model.zero_grad()        \n",
        "        # Forward pass\n",
        "        outputs = model(b_input_ids, \n",
        "                    #token_type_ids=None, \n",
        "                    attention_mask=b_input_mask\n",
        "                    #, labels=b_labels\n",
        "                    )\n",
        "        \n",
        "        weights = [1, 1.5, 1, 1, 1, 1, 1, 1.5, 1, 1, 1, 2, 1.5, 1, 1, 1, 0.6, 1, 1, 1]\n",
        "        class_weights = torch.FloatTensor(weights).cuda()\n",
        "        loss = torch.nn.CrossEntropyLoss(weight = class_weights)(outputs, b_labels)\n",
        "        total_loss += loss.item()\n",
        "        # Backward pass\n",
        "        loss.backward()\n",
        "\n",
        "        # Clip the gradients to avoid \"exploding\" gradients\n",
        "        torch.nn.utils.clip_grad_norm_(model.parameters(), 1.0)\n",
        "\n",
        "        # Update optimizer and learning rate\n",
        "        optimizer.step()\n",
        "        scheduler.step()\n",
        "\n",
        "    avg_train_loss = total_loss / len(train_dataloader)               \n",
        "    loss_values.append(avg_train_loss)\n",
        "\n",
        "    print(\"\")\n",
        "    print(\"  Average training loss: {0:.2f}\".format(avg_train_loss))\n",
        "    print(\"  Training epcoh took: {:}\".format(format_time(time.time() - t0)))\n",
        "\n",
        "\n",
        "              # Validation\n",
        "    print(\"\")\n",
        "    print(\"Running Validation...\")\n",
        "\n",
        "    t0 = time.time()\n",
        "\n",
        "    # Model set to evaluation mode\n",
        "    model.eval()\n",
        "\n",
        "    eval_loss, eval_accuracy = 0, 0\n",
        "    nb_eval_steps, nb_eval_examples = 0, 0\n",
        "\n",
        "    for batch in validation_dataloader:\n",
        "        \n",
        "        # Move batch to GPU\n",
        "        batch = tuple(t.to(device) for t in batch)\n",
        "        \n",
        "        # Unpack the current batch \n",
        "        b_input_ids, b_input_mask, b_labels = batch\n",
        "        \n",
        "        # Not computing gradients during validation\n",
        "        with torch.no_grad():        \n",
        "\n",
        "            # Forward pass\n",
        "            outputs = model(b_input_ids, \n",
        "                            #token_type_ids=None, \n",
        "                            attention_mask=b_input_mask)\n",
        "        \n",
        "        # Store the probabilities per class outputed by Roberta\n",
        "        logits = outputs#[0]\n",
        "\n",
        "        # Detach output from GPU \n",
        "        logits = logits.detach().cpu().numpy()\n",
        "        label_ids = b_labels.to('cpu').numpy()\n",
        "        \n",
        "        # Call to the scoring function\n",
        "        tmp_eval_accuracy = flat_accuracy(logits, label_ids)\n",
        "        eval_accuracy += tmp_eval_accuracy\n",
        "\n",
        "        # Track training steps\n",
        "        nb_eval_steps += 1\n",
        "\n",
        "    # Accuracy score obtained and time necessary to perform one epoch \n",
        "    print(\"  Accuracy: {0:.2f}\".format(eval_accuracy/nb_eval_steps))\n",
        "    print(\"  Validation took: {:}\".format(format_time(time.time() - t0)))\n",
        "    print(\"\\n\")"
      ],
      "execution_count": null,
      "outputs": [
        {
          "output_type": "stream",
          "text": [
            "======== Epoch 1 / 12 ========\n",
            "  Batch   200  of  2,850.    Elapsed: 0:01:19.\n",
            "  Batch   400  of  2,850.    Elapsed: 0:02:39.\n",
            "  Batch   600  of  2,850.    Elapsed: 0:03:59.\n",
            "  Batch   800  of  2,850.    Elapsed: 0:05:18.\n",
            "  Batch 1,000  of  2,850.    Elapsed: 0:06:38.\n",
            "  Batch 1,200  of  2,850.    Elapsed: 0:07:57.\n",
            "  Batch 1,400  of  2,850.    Elapsed: 0:09:17.\n",
            "  Batch 1,600  of  2,850.    Elapsed: 0:10:37.\n",
            "  Batch 1,800  of  2,850.    Elapsed: 0:11:56.\n",
            "  Batch 2,000  of  2,850.    Elapsed: 0:13:16.\n",
            "  Batch 2,200  of  2,850.    Elapsed: 0:14:35.\n",
            "  Batch 2,400  of  2,850.    Elapsed: 0:15:55.\n",
            "  Batch 2,600  of  2,850.    Elapsed: 0:17:15.\n",
            "  Batch 2,800  of  2,850.    Elapsed: 0:18:34.\n",
            "\n",
            "  Average training loss: 1.15\n",
            "  Training epcoh took: 0:18:54\n",
            "\n",
            "Running Validation...\n",
            "  Accuracy: 0.83\n",
            "  Validation took: 0:00:19\n",
            "\n",
            "\n",
            "======== Epoch 2 / 12 ========\n",
            "  Batch   200  of  2,850.    Elapsed: 0:01:20.\n",
            "  Batch   400  of  2,850.    Elapsed: 0:02:39.\n",
            "  Batch   600  of  2,850.    Elapsed: 0:03:59.\n",
            "  Batch   800  of  2,850.    Elapsed: 0:05:18.\n",
            "  Batch 1,000  of  2,850.    Elapsed: 0:06:38.\n",
            "  Batch 1,200  of  2,850.    Elapsed: 0:07:58.\n",
            "  Batch 1,400  of  2,850.    Elapsed: 0:09:17.\n",
            "  Batch 1,600  of  2,850.    Elapsed: 0:10:37.\n",
            "  Batch 1,800  of  2,850.    Elapsed: 0:11:57.\n",
            "  Batch 2,000  of  2,850.    Elapsed: 0:13:16.\n",
            "  Batch 2,200  of  2,850.    Elapsed: 0:14:36.\n",
            "  Batch 2,400  of  2,850.    Elapsed: 0:15:55.\n",
            "  Batch 2,600  of  2,850.    Elapsed: 0:17:15.\n",
            "  Batch 2,800  of  2,850.    Elapsed: 0:18:35.\n",
            "\n",
            "  Average training loss: 0.80\n",
            "  Training epcoh took: 0:18:55\n",
            "\n",
            "Running Validation...\n",
            "  Accuracy: 0.84\n",
            "  Validation took: 0:00:19\n",
            "\n",
            "\n",
            "======== Epoch 3 / 12 ========\n",
            "  Batch   200  of  2,850.    Elapsed: 0:01:20.\n",
            "  Batch   400  of  2,850.    Elapsed: 0:02:39.\n",
            "  Batch   600  of  2,850.    Elapsed: 0:03:59.\n",
            "  Batch   800  of  2,850.    Elapsed: 0:05:18.\n",
            "  Batch 1,000  of  2,850.    Elapsed: 0:06:38.\n",
            "  Batch 1,200  of  2,850.    Elapsed: 0:07:58.\n",
            "  Batch 1,400  of  2,850.    Elapsed: 0:09:17.\n",
            "  Batch 1,600  of  2,850.    Elapsed: 0:10:37.\n",
            "  Batch 1,800  of  2,850.    Elapsed: 0:11:57.\n",
            "  Batch 2,000  of  2,850.    Elapsed: 0:13:16.\n",
            "  Batch 2,200  of  2,850.    Elapsed: 0:14:36.\n",
            "  Batch 2,400  of  2,850.    Elapsed: 0:15:55.\n",
            "  Batch 2,600  of  2,850.    Elapsed: 0:17:15.\n",
            "  Batch 2,800  of  2,850.    Elapsed: 0:18:35.\n",
            "\n",
            "  Average training loss: 0.63\n",
            "  Training epcoh took: 0:18:55\n",
            "\n",
            "Running Validation...\n",
            "  Accuracy: 0.84\n",
            "  Validation took: 0:00:19\n",
            "\n",
            "\n",
            "======== Epoch 4 / 12 ========\n",
            "  Batch   200  of  2,850.    Elapsed: 0:01:20.\n",
            "  Batch   400  of  2,850.    Elapsed: 0:02:39.\n",
            "  Batch   600  of  2,850.    Elapsed: 0:03:59.\n",
            "  Batch   800  of  2,850.    Elapsed: 0:05:19.\n",
            "  Batch 1,000  of  2,850.    Elapsed: 0:06:38.\n",
            "  Batch 1,200  of  2,850.    Elapsed: 0:07:58.\n",
            "  Batch 1,400  of  2,850.    Elapsed: 0:09:17.\n",
            "  Batch 1,600  of  2,850.    Elapsed: 0:10:37.\n",
            "  Batch 1,800  of  2,850.    Elapsed: 0:11:57.\n",
            "  Batch 2,000  of  2,850.    Elapsed: 0:13:16.\n",
            "  Batch 2,200  of  2,850.    Elapsed: 0:14:36.\n",
            "  Batch 2,400  of  2,850.    Elapsed: 0:15:56.\n",
            "  Batch 2,600  of  2,850.    Elapsed: 0:17:15.\n",
            "  Batch 2,800  of  2,850.    Elapsed: 0:18:35.\n",
            "\n",
            "  Average training loss: 0.50\n",
            "  Training epcoh took: 0:18:55\n",
            "\n",
            "Running Validation...\n",
            "  Accuracy: 0.83\n",
            "  Validation took: 0:00:19\n",
            "\n",
            "\n",
            "======== Epoch 5 / 12 ========\n",
            "  Batch   200  of  2,850.    Elapsed: 0:01:20.\n",
            "  Batch   400  of  2,850.    Elapsed: 0:02:39.\n",
            "  Batch   600  of  2,850.    Elapsed: 0:03:59.\n",
            "  Batch   800  of  2,850.    Elapsed: 0:05:19.\n",
            "  Batch 1,000  of  2,850.    Elapsed: 0:06:38.\n",
            "  Batch 1,200  of  2,850.    Elapsed: 0:07:58.\n",
            "  Batch 1,400  of  2,850.    Elapsed: 0:09:18.\n",
            "  Batch 1,600  of  2,850.    Elapsed: 0:10:37.\n",
            "  Batch 1,800  of  2,850.    Elapsed: 0:11:57.\n",
            "  Batch 2,000  of  2,850.    Elapsed: 0:13:16.\n",
            "  Batch 2,200  of  2,850.    Elapsed: 0:14:36.\n",
            "  Batch 2,400  of  2,850.    Elapsed: 0:15:56.\n",
            "  Batch 2,600  of  2,850.    Elapsed: 0:17:15.\n",
            "  Batch 2,800  of  2,850.    Elapsed: 0:18:35.\n",
            "\n",
            "  Average training loss: 0.41\n",
            "  Training epcoh took: 0:18:55\n",
            "\n",
            "Running Validation...\n",
            "  Accuracy: 0.84\n",
            "  Validation took: 0:00:19\n",
            "\n",
            "\n",
            "======== Epoch 6 / 12 ========\n",
            "  Batch   200  of  2,850.    Elapsed: 0:01:20.\n",
            "  Batch   400  of  2,850.    Elapsed: 0:02:39.\n",
            "  Batch   600  of  2,850.    Elapsed: 0:03:59.\n",
            "  Batch   800  of  2,850.    Elapsed: 0:05:19.\n",
            "  Batch 1,000  of  2,850.    Elapsed: 0:06:38.\n",
            "  Batch 1,200  of  2,850.    Elapsed: 0:07:58.\n",
            "  Batch 1,400  of  2,850.    Elapsed: 0:09:17.\n",
            "  Batch 1,600  of  2,850.    Elapsed: 0:10:37.\n",
            "  Batch 1,800  of  2,850.    Elapsed: 0:11:57.\n",
            "  Batch 2,000  of  2,850.    Elapsed: 0:13:16.\n",
            "  Batch 2,200  of  2,850.    Elapsed: 0:14:36.\n",
            "  Batch 2,400  of  2,850.    Elapsed: 0:15:56.\n",
            "  Batch 2,600  of  2,850.    Elapsed: 0:17:15.\n",
            "  Batch 2,800  of  2,850.    Elapsed: 0:18:35.\n",
            "\n",
            "  Average training loss: 0.34\n",
            "  Training epcoh took: 0:18:55\n",
            "\n",
            "Running Validation...\n",
            "  Accuracy: 0.83\n",
            "  Validation took: 0:00:19\n",
            "\n",
            "\n",
            "======== Epoch 7 / 12 ========\n",
            "  Batch   200  of  2,850.    Elapsed: 0:01:20.\n",
            "  Batch   400  of  2,850.    Elapsed: 0:02:39.\n",
            "  Batch   600  of  2,850.    Elapsed: 0:03:59.\n",
            "  Batch   800  of  2,850.    Elapsed: 0:05:19.\n",
            "  Batch 1,000  of  2,850.    Elapsed: 0:06:38.\n",
            "  Batch 1,200  of  2,850.    Elapsed: 0:07:58.\n",
            "  Batch 1,400  of  2,850.    Elapsed: 0:09:17.\n",
            "  Batch 1,600  of  2,850.    Elapsed: 0:10:37.\n",
            "  Batch 1,800  of  2,850.    Elapsed: 0:11:56.\n",
            "  Batch 2,000  of  2,850.    Elapsed: 0:13:16.\n",
            "  Batch 2,200  of  2,850.    Elapsed: 0:14:36.\n",
            "  Batch 2,400  of  2,850.    Elapsed: 0:15:55.\n",
            "  Batch 2,600  of  2,850.    Elapsed: 0:17:15.\n",
            "  Batch 2,800  of  2,850.    Elapsed: 0:18:35.\n",
            "\n",
            "  Average training loss: 0.28\n",
            "  Training epcoh took: 0:18:55\n",
            "\n",
            "Running Validation...\n",
            "  Accuracy: 0.84\n",
            "  Validation took: 0:00:19\n",
            "\n",
            "\n",
            "======== Epoch 8 / 12 ========\n",
            "  Batch   200  of  2,850.    Elapsed: 0:01:20.\n",
            "  Batch   400  of  2,850.    Elapsed: 0:02:39.\n",
            "  Batch   600  of  2,850.    Elapsed: 0:03:59.\n",
            "  Batch   800  of  2,850.    Elapsed: 0:05:18.\n",
            "  Batch 1,000  of  2,850.    Elapsed: 0:06:38.\n",
            "  Batch 1,200  of  2,850.    Elapsed: 0:07:58.\n",
            "  Batch 1,400  of  2,850.    Elapsed: 0:09:17.\n",
            "  Batch 1,600  of  2,850.    Elapsed: 0:10:37.\n",
            "  Batch 1,800  of  2,850.    Elapsed: 0:11:57.\n",
            "  Batch 2,000  of  2,850.    Elapsed: 0:13:16.\n",
            "  Batch 2,200  of  2,850.    Elapsed: 0:14:36.\n",
            "  Batch 2,400  of  2,850.    Elapsed: 0:15:55.\n",
            "  Batch 2,600  of  2,850.    Elapsed: 0:17:15.\n",
            "  Batch 2,800  of  2,850.    Elapsed: 0:18:35.\n",
            "\n",
            "  Average training loss: 0.24\n",
            "  Training epcoh took: 0:18:54\n",
            "\n",
            "Running Validation...\n",
            "  Accuracy: 0.84\n",
            "  Validation took: 0:00:19\n",
            "\n",
            "\n",
            "======== Epoch 9 / 12 ========\n",
            "  Batch   200  of  2,850.    Elapsed: 0:01:20.\n",
            "  Batch   400  of  2,850.    Elapsed: 0:02:39.\n",
            "  Batch   600  of  2,850.    Elapsed: 0:03:59.\n",
            "  Batch   800  of  2,850.    Elapsed: 0:05:18.\n",
            "  Batch 1,000  of  2,850.    Elapsed: 0:06:38.\n",
            "  Batch 1,200  of  2,850.    Elapsed: 0:07:57.\n",
            "  Batch 1,400  of  2,850.    Elapsed: 0:09:17.\n",
            "  Batch 1,600  of  2,850.    Elapsed: 0:10:36.\n",
            "  Batch 1,800  of  2,850.    Elapsed: 0:11:56.\n",
            "  Batch 2,000  of  2,850.    Elapsed: 0:13:16.\n",
            "  Batch 2,200  of  2,850.    Elapsed: 0:14:35.\n",
            "  Batch 2,400  of  2,850.    Elapsed: 0:15:55.\n",
            "  Batch 2,600  of  2,850.    Elapsed: 0:17:14.\n",
            "  Batch 2,800  of  2,850.    Elapsed: 0:18:34.\n",
            "\n",
            "  Average training loss: 0.20\n",
            "  Training epcoh took: 0:18:53\n",
            "\n",
            "Running Validation...\n",
            "  Accuracy: 0.85\n",
            "  Validation took: 0:00:19\n",
            "\n",
            "\n",
            "======== Epoch 10 / 12 ========\n",
            "  Batch   200  of  2,850.    Elapsed: 0:01:19.\n",
            "  Batch   400  of  2,850.    Elapsed: 0:02:39.\n",
            "  Batch   600  of  2,850.    Elapsed: 0:03:58.\n",
            "  Batch   800  of  2,850.    Elapsed: 0:05:18.\n",
            "  Batch 1,000  of  2,850.    Elapsed: 0:06:37.\n",
            "  Batch 1,200  of  2,850.    Elapsed: 0:07:57.\n",
            "  Batch 1,400  of  2,850.    Elapsed: 0:09:16.\n",
            "  Batch 1,600  of  2,850.    Elapsed: 0:10:36.\n",
            "  Batch 1,800  of  2,850.    Elapsed: 0:11:55.\n",
            "  Batch 2,000  of  2,850.    Elapsed: 0:13:15.\n",
            "  Batch 2,200  of  2,850.    Elapsed: 0:14:34.\n",
            "  Batch 2,400  of  2,850.    Elapsed: 0:15:54.\n",
            "  Batch 2,600  of  2,850.    Elapsed: 0:17:13.\n",
            "  Batch 2,800  of  2,850.    Elapsed: 0:18:32.\n",
            "\n",
            "  Average training loss: 0.18\n",
            "  Training epcoh took: 0:18:52\n",
            "\n",
            "Running Validation...\n",
            "  Accuracy: 0.84\n",
            "  Validation took: 0:00:19\n",
            "\n",
            "\n",
            "======== Epoch 11 / 12 ========\n",
            "  Batch   200  of  2,850.    Elapsed: 0:01:19.\n",
            "  Batch   400  of  2,850.    Elapsed: 0:02:39.\n",
            "  Batch   600  of  2,850.    Elapsed: 0:03:58.\n",
            "  Batch   800  of  2,850.    Elapsed: 0:05:18.\n",
            "  Batch 1,000  of  2,850.    Elapsed: 0:06:37.\n",
            "  Batch 1,200  of  2,850.    Elapsed: 0:07:57.\n",
            "  Batch 1,400  of  2,850.    Elapsed: 0:09:16.\n",
            "  Batch 1,600  of  2,850.    Elapsed: 0:10:35.\n",
            "  Batch 1,800  of  2,850.    Elapsed: 0:11:55.\n",
            "  Batch 2,000  of  2,850.    Elapsed: 0:13:14.\n",
            "  Batch 2,200  of  2,850.    Elapsed: 0:14:34.\n",
            "  Batch 2,400  of  2,850.    Elapsed: 0:15:53.\n",
            "  Batch 2,600  of  2,850.    Elapsed: 0:17:13.\n",
            "  Batch 2,800  of  2,850.    Elapsed: 0:18:32.\n",
            "\n",
            "  Average training loss: 0.16\n",
            "  Training epcoh took: 0:18:52\n",
            "\n",
            "Running Validation...\n",
            "  Accuracy: 0.84\n",
            "  Validation took: 0:00:19\n",
            "\n",
            "\n",
            "======== Epoch 12 / 12 ========\n",
            "  Batch   200  of  2,850.    Elapsed: 0:01:19.\n",
            "  Batch   400  of  2,850.    Elapsed: 0:02:39.\n",
            "  Batch   600  of  2,850.    Elapsed: 0:03:58.\n",
            "  Batch   800  of  2,850.    Elapsed: 0:05:18.\n",
            "  Batch 1,000  of  2,850.    Elapsed: 0:06:37.\n",
            "  Batch 1,200  of  2,850.    Elapsed: 0:07:57.\n",
            "  Batch 1,400  of  2,850.    Elapsed: 0:09:16.\n",
            "  Batch 1,600  of  2,850.    Elapsed: 0:10:35.\n",
            "  Batch 1,800  of  2,850.    Elapsed: 0:11:55.\n",
            "  Batch 2,000  of  2,850.    Elapsed: 0:13:14.\n",
            "  Batch 2,200  of  2,850.    Elapsed: 0:14:34.\n",
            "  Batch 2,400  of  2,850.    Elapsed: 0:15:53.\n",
            "  Batch 2,600  of  2,850.    Elapsed: 0:17:13.\n",
            "  Batch 2,800  of  2,850.    Elapsed: 0:18:32.\n",
            "\n",
            "  Average training loss: 0.15\n",
            "  Training epcoh took: 0:18:52\n",
            "\n",
            "Running Validation...\n",
            "  Accuracy: 0.84\n",
            "  Validation took: 0:00:19\n",
            "\n",
            "\n"
          ],
          "name": "stdout"
        }
      ]
    },
    {
      "cell_type": "markdown",
      "metadata": {
        "id": "udfUH6w4ZD6V"
      },
      "source": [
        "# Preparing the dataset for prediction"
      ]
    },
    {
      "cell_type": "code",
      "metadata": {
        "id": "voBJ17okZJ0M",
        "colab": {
          "base_uri": "https://localhost:8080/"
        },
        "outputId": "53bb3504-b424-4c39-a6e0-99c53480c629"
      },
      "source": [
        "\n",
        "test = pd.read_csv(path + \"/test.csv\", names=[\"node idx\"])\n",
        "text = pd.read_csv(path + \"/text.csv\", names=[\"paper id\", \"title\", \"abstract\"])\n",
        "\n",
        "# Same treatment as the training dataset\n",
        "test = pd.merge(test, reference, on=\"node idx\")\n",
        "test = pd.merge(test, text, on = \"paper id\")\n",
        "\n",
        "df = test\n",
        "df['text'] = df['title'] + ' ' +df['abstract']\n",
        "\n",
        "print('Number of test sentences: {:,}\\n'.format(df.shape[0]))\n",
        "\n",
        "titles_test = df.text.values\n",
        "\n",
        "# Call to the same tokenizer as the training set\n",
        "input_ids = []\n",
        "\n",
        "for t in titles_test:\n",
        "\n",
        "    encoded_sent = tokenizer.encode(\n",
        "                        t,                   \n",
        "                        add_special_tokens = True\n",
        "                   )\n",
        "    \n",
        "    input_ids.append(encoded_sent)\n",
        "\n",
        "# Padding\n",
        "input_ids = pad_sequences(input_ids, maxlen=MAX_LEN, \n",
        "                          dtype=\"long\", truncating=\"post\", padding=\"post\")\n",
        "# Attention mask\n",
        "attention_masks = []\n",
        "for seq in input_ids:\n",
        "  seq_mask = [float(i>0) for i in seq]\n",
        "  attention_masks.append(seq_mask) \n",
        "\n",
        "# To pytorch tensors\n",
        "prediction_inputs = torch.tensor(input_ids)\n",
        "prediction_masks = torch.tensor(attention_masks)\n",
        "prediction_labels = torch.tensor(labels)\n",
        "\n",
        "batch_size = 32  \n",
        "\n",
        "# Pytorch dataLoader\n",
        "prediction_data = TensorDataset(prediction_inputs, prediction_masks)\n",
        "prediction_sampler = SequentialSampler(prediction_data)\n",
        "prediction_dataloader = DataLoader(prediction_data, sampler=prediction_sampler, batch_size=batch_size)"
      ],
      "execution_count": null,
      "outputs": [
        {
          "output_type": "stream",
          "text": [
            "Number of test sentences: 13,718\n",
            "\n"
          ],
          "name": "stdout"
        }
      ]
    },
    {
      "cell_type": "markdown",
      "metadata": {
        "id": "lTWwQpaecsQn"
      },
      "source": [
        "# Predictions and submission file"
      ]
    },
    {
      "cell_type": "code",
      "metadata": {
        "id": "2YgEekkJcrwe"
      },
      "source": [
        "# Model set to evaluation mode\n",
        "model.eval()\n",
        "\n",
        "predictions = []\n",
        "\n",
        "# Predict\n",
        "for batch in prediction_dataloader:\n",
        "  batch = tuple(t.to(device) for t in batch)\n",
        "  \n",
        "  b_input_ids, b_input_mask = batch\n",
        "  \n",
        "  # Not computing gradients during testing\n",
        "  with torch.no_grad():\n",
        "      outputs = model(b_input_ids,# token_type_ids=None, \n",
        "                      attention_mask=b_input_mask)\n",
        "\n",
        "  logits = outputs\n",
        "\n",
        "  # Detach outputed results from GPU\n",
        "  logits = logits.detach().cpu().numpy()\n",
        "  label_ids = b_labels.to('cpu').numpy()\n",
        "  \n",
        "  # Store predictions and true labels\n",
        "  predictions.append(logits)\n",
        "  \n",
        "# Argmax on the outputed probabilities to find the chosen label\n",
        "predictions_test = []\n",
        "for i in range(len(predictions)):\n",
        "  pred_labels_i = np.argmax(predictions[i], axis=1).flatten()\n",
        "  predictions_test.append(pred_labels_i)"
      ],
      "execution_count": null,
      "outputs": []
    },
    {
      "cell_type": "code",
      "metadata": {
        "id": "KHaMnomPdYf1"
      },
      "source": [
        "# Predicted labels formatted into a single list\n",
        "flat_list = []\n",
        "for sublist in predictions_test:\n",
        "    for item in sublist:\n",
        "        flat_list.append(item)"
      ],
      "execution_count": null,
      "outputs": []
    },
    {
      "cell_type": "code",
      "metadata": {
        "id": "yfxNiGG2d4iw"
      },
      "source": [
        "# Load the initial file and append the predictions\n",
        "verif = pd.read_csv(path +'/test.csv', names=['id'])\n",
        "flat_list = list(map(int, flat_list))\n",
        "verif['label'] = flat_list"
      ],
      "execution_count": null,
      "outputs": []
    },
    {
      "cell_type": "code",
      "metadata": {
        "id": "_CvCusejeJhS",
        "colab": {
          "base_uri": "https://localhost:8080/",
          "height": 284
        },
        "outputId": "48df9052-2e0f-4940-e64a-62dfd0bf58a3"
      },
      "source": [
        "# Verify the distribution of predicted labels\n",
        "import matplotlib.pyplot as plt\n",
        "import seaborn as sns\n",
        "\n",
        "plt.figure(figsize=(40, 8))\n",
        "sns.countplot(x='label', data=verif)\n",
        "plt.show()"
      ],
      "execution_count": null,
      "outputs": [
        {
          "output_type": "display_data",
          "data": {
            "image/png": "[encoded data removed]",
            "text/plain": [
              "<Figure size 2880x576 with 1 Axes>"
            ]
          },
          "metadata": {
            "tags": [],
            "needs_background": "light"
          }
        }
      ]
    },
    {
      "cell_type": "code",
      "metadata": {
        "id": "arrLpZ9iePWL",
        "colab": {
          "base_uri": "https://localhost:8080/",
          "height": 283
        },
        "outputId": "5c2d82b1-4afa-424e-f02e-37f12afece67"
      },
      "source": [
        "# Can compare it to the distribution of labels in the training set\n",
        "plt.figure(figsize=(40, 8))\n",
        "sns.countplot(x='label', data=train)\n",
        "plt.show()"
      ],
      "execution_count": null,
      "outputs": [
        {
          "output_type": "display_data",
          "data": {
            "image/png": "[encoded data removed]",
            "text/plain": [
              "<Figure size 2880x576 with 1 Axes>"
            ]
          },
          "metadata": {
            "tags": [],
            "needs_background": "light"
          }
        }
      ]
    },
    {
      "cell_type": "code",
      "metadata": {
        "id": "Kh5HBDhseYg2"
      },
      "source": [
        "# Save the submission file in a format that Kaggle will accept\n",
        "verif.to_csv('sub_SciBERT.csv', index=False)"
      ],
      "execution_count": null,
      "outputs": []
    },
    {
      "cell_type": "code",
      "metadata": {
        "id": "pDNf0Ug_SV2t",
        "colab": {
          "base_uri": "https://localhost:8080/",
          "height": 206
        },
        "outputId": "ae0badb7-de16-4099-cfef-b495ff48c23e"
      },
      "source": [
        "verif.head()"
      ],
      "execution_count": null,
      "outputs": [
        {
          "output_type": "execute_result",
          "data": {
            "text/html": [
              "<div>\n",
              "<style scoped>\n",
              "    .dataframe tbody tr th:only-of-type {\n",
              "        vertical-align: middle;\n",
              "    }\n",
              "\n",
              "    .dataframe tbody tr th {\n",
              "        vertical-align: top;\n",
              "    }\n",
              "\n",
              "    .dataframe thead th {\n",
              "        text-align: right;\n",
              "    }\n",
              "</style>\n",
              "<table border=\"1\" class=\"dataframe\">\n",
              "  <thead>\n",
              "    <tr style=\"text-align: right;\">\n",
              "      <th></th>\n",
              "      <th>id</th>\n",
              "      <th>label</th>\n",
              "    </tr>\n",
              "  </thead>\n",
              "  <tbody>\n",
              "    <tr>\n",
              "      <th>0</th>\n",
              "      <td>137832</td>\n",
              "      <td>16</td>\n",
              "    </tr>\n",
              "    <tr>\n",
              "      <th>1</th>\n",
              "      <td>137833</td>\n",
              "      <td>4</td>\n",
              "    </tr>\n",
              "    <tr>\n",
              "      <th>2</th>\n",
              "      <td>137834</td>\n",
              "      <td>10</td>\n",
              "    </tr>\n",
              "    <tr>\n",
              "      <th>3</th>\n",
              "      <td>137836</td>\n",
              "      <td>5</td>\n",
              "    </tr>\n",
              "    <tr>\n",
              "      <th>4</th>\n",
              "      <td>137837</td>\n",
              "      <td>0</td>\n",
              "    </tr>\n",
              "  </tbody>\n",
              "</table>\n",
              "</div>"
            ],
            "text/plain": [
              "       id  label\n",
              "0  137832     16\n",
              "1  137833      4\n",
              "2  137834     10\n",
              "3  137836      5\n",
              "4  137837      0"
            ]
          },
          "metadata": {
            "tags": []
          },
          "execution_count": 36
        }
      ]
    }
  ]
}